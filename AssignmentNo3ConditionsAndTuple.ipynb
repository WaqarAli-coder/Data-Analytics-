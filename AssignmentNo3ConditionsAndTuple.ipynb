{
 "cells": [
  {
   "cell_type": "markdown",
   "id": "040aea0c-eda0-465a-b3f6-fd58237a430b",
   "metadata": {},
   "source": [
    "Question 1: Age Group Classification \n",
    "\n",
    "Write a Python program that takes the age of a person as input and classifies them into one of the following age groups:\n",
    "\n",
    "\"Child\" if the age is between 0 and 12 (inclusive).\n",
    "\n",
    "\"Teenager\" if the age is between 13 and 19 (inclusive).\n",
    "\n",
    "\"Adult\" if the age is between 20 and 64 (inclusive).\n",
    "\n",
    "\"Senior\" if the age is 65 or older.\n"
   ]
  },
  {
   "cell_type": "code",
   "execution_count": 5,
   "id": "bcf058d8-538c-45f6-9434-fdcaee61da89",
   "metadata": {},
   "outputs": [
    {
     "name": "stdin",
     "output_type": "stream",
     "text": [
      "write your age 15\n"
     ]
    },
    {
     "name": "stdout",
     "output_type": "stream",
     "text": [
      "You are Teenager\n"
     ]
    }
   ],
   "source": [
    "age=int(input(\"write your age\"))\n",
    "if age>=0 and age<=12:\n",
    "    print(\"You are a Child\")\n",
    "\n",
    "elif age>=13 and age<=19:\n",
    "    print(\"You are Teenager\")\n",
    "\n",
    "elif age>=20 and age<=64:\n",
    "    print(\"You are Adult\")\n",
    "\n",
    "elif age>=65:\n",
    "    print(\"You are older\")\n",
    "\n",
    "else:\n",
    "    print(\"You have given wrong age\")\n"
   ]
  },
  {
   "cell_type": "markdown",
   "id": "5068bb33-315c-4a5d-be95-4caa94afe993",
   "metadata": {},
   "source": [
    "Q2. Write a Python program that asks the user to enter an email address. The program should check if the email contains the characters @ and \".\" (ignoring case). If either character is present, print \"Email format is valid.\" Otherwise, print \"Invalid email format.\""
   ]
  },
  {
   "cell_type": "code",
   "execution_count": 9,
   "id": "631fb2e3-a3c4-45c7-9d7b-7373e8d9d238",
   "metadata": {},
   "outputs": [
    {
     "name": "stdin",
     "output_type": "stream",
     "text": [
      "Write down Email:  afdfsd\n"
     ]
    },
    {
     "name": "stdout",
     "output_type": "stream",
     "text": [
      "Invalid Format\n"
     ]
    }
   ],
   "source": [
    "email=input(\"Write down Email: \")\n",
    "if \"@\" in email or \".\" in email:\n",
    "    print(\"Email Format is valid\")\n",
    "\n",
    "else:\n",
    "    print(\"Invalid Format\")"
   ]
  },
  {
   "cell_type": "markdown",
   "id": "a074ddbe-c5c4-455e-ac3c-53fbbc6c2d56",
   "metadata": {},
   "source": [
    "Q3. Write a Python program that takes three numbers as input and determines the largest among them. Also, check if any or all of the numbers are equal.\""
   ]
  },
  {
   "cell_type": "code",
   "execution_count": 9,
   "id": "b35d75dc-da92-4eb5-949a-090a815aac98",
   "metadata": {},
   "outputs": [
    {
     "name": "stdin",
     "output_type": "stream",
     "text": [
      "Number 1:    12\n",
      "Number 2:    2\n",
      "Number 3:    3\n"
     ]
    },
    {
     "name": "stdout",
     "output_type": "stream",
     "text": [
      "12 is the greaters number\n",
      "Numbers are not equal\n"
     ]
    }
   ],
   "source": [
    "num1=int(input(\"Number 1:   \"))\n",
    "num2=int(input(\"Number 2:   \"))\n",
    "num3=int(input(\"Number 3:   \"))\n",
    "if num1>num2:\n",
    "    if num1>num3:\n",
    "        print(num1,\"is the greaters number\")\n",
    "\n",
    "elif num2>num3:\n",
    "    if num2>num1:\n",
    "        print(num2,\" is the greatest number\")\n",
    "\n",
    "elif num3>num1:\n",
    "    if num3>num2:\n",
    "        print(num3,\"is the greatesr number\")\n",
    "\n",
    "\n",
    "\n",
    "else:\n",
    "    print(\"There is no any single no is the greatest\")\n",
    "\n",
    "\n",
    "if num1==num2 and num1==num3:\n",
    "    print(\"All numbers are equal\")\n",
    "elif num1==num2:\n",
    "    print(\"Given number 1 is equals to Given Number 2\")\n",
    "elif num1==num3:\n",
    "    print(\"Given number 1 is equals to Given Number 3\")\n",
    "elif num2==num3:\n",
    "    print(\" Given Numbere 2 is equals to Given Number 3\")\n",
    "else:\n",
    "    print(\"Numbers are not equal\")\n",
    "\n",
    "\n"
   ]
  },
  {
   "cell_type": "markdown",
   "id": "55560bd6-a9d8-4e57-a192-b3e9932ff5cb",
   "metadata": {},
   "source": [
    "Q4. Write a Python program that:\n",
    "\n",
    "Asks the user to enter a number.\n",
    "\n",
    "Checks whether the number is positive.\n",
    "\n",
    "If yes, further check if it's even or odd.\n",
    "\n",
    "Print \"The number is positive and even\" if divisible by 2.\n",
    "\n",
    "Print \"The number is positive and odd\" if not divisible by 2.\n",
    "\n",
    "If the number is zero or negative, print \"The number is not positive\".\n",
    "\n"
   ]
  },
  {
   "cell_type": "code",
   "execution_count": 4,
   "id": "d1eeb7c7-2360-4c89-91c9-bdd7ac0b488e",
   "metadata": {},
   "outputs": [
    {
     "name": "stdin",
     "output_type": "stream",
     "text": [
      "write a Number to check weather it is positive and odd or even -2\n"
     ]
    },
    {
     "name": "stdout",
     "output_type": "stream",
     "text": [
      "The  Number is not positive\n"
     ]
    }
   ],
   "source": [
    "num = int(input(\"write a Number to check weather it is positive and odd or even\"))\n",
    "if num>0:\n",
    "    if num%2==0:\n",
    "        print(\"The Number is positive and even\")\n",
    "    else:\n",
    "        print(\"The Number is positive and odd\")\n",
    "\n",
    "else:\n",
    "    print(\"The  Number is not positive\")"
   ]
  },
  {
   "cell_type": "markdown",
   "id": "800fe26a-5d6e-4107-97ba-62fa4f913093",
   "metadata": {},
   "source": [
    "Q5. Ask the user for a username and password. Check if the username is correct. If it is, then check if the password is correct. If both are correct, print \"Access granted\".\n",
    "\n",
    "username = \"admin\"\n",
    "\n",
    "password = \"1234\""
   ]
  },
  {
   "cell_type": "code",
   "execution_count": 9,
   "id": "505e77ea-732e-4e87-98f9-f66e4d5c38d4",
   "metadata": {},
   "outputs": [
    {
     "name": "stdin",
     "output_type": "stream",
     "text": [
      "Username :  123\n",
      "Passowrd : sdf\n"
     ]
    },
    {
     "name": "stdout",
     "output_type": "stream",
     "text": [
      "Access denied\n"
     ]
    }
   ],
   "source": [
    "username=input(\"Username : \")\n",
    "password=input(\"Passowrd :\")\n",
    "if username=='admin':\n",
    "    if password=='1234':\n",
    "        print(\"Access Granted\")\n",
    "\n",
    "else:\n",
    "    print(\"Access denied\")\n",
    "    "
   ]
  },
  {
   "cell_type": "markdown",
   "id": "d7512946-1c55-48d5-b62d-4f17c84f457a",
   "metadata": {},
   "source": [
    "Q6. Take an integer input from the user and check whether the entered value exists in the tuple my_tuple = (5, 10, 15, 20, 25). Print an appropriate message based on the result."
   ]
  },
  {
   "cell_type": "code",
   "execution_count": 13,
   "id": "67c48058-762f-44a9-af1d-3d3dfa10bf40",
   "metadata": {},
   "outputs": [
    {
     "name": "stdin",
     "output_type": "stream",
     "text": [
      "Write an integer number : 5\n"
     ]
    },
    {
     "name": "stdout",
     "output_type": "stream",
     "text": [
      "Given number is available in the tupe\n"
     ]
    }
   ],
   "source": [
    " num=int(input(\"Write an integer number :\"))\n",
    "my_tuple = (5, 10, 15, 20, 25)\n",
    "if num in my_tuple:\n",
    "    print('Given number is available in the tuple')\n",
    "\n",
    "else:\n",
    "    print('Given number is not available in the tuple')\n"
   ]
  },
  {
   "cell_type": "markdown",
   "id": "f38b44b4-1244-4fa9-a186-8153caa421ec",
   "metadata": {},
   "source": [
    "Q7. Create a program that takes the user's first name, last name, and age as input, packs them into a tuple, and prints the tuple."
   ]
  },
  {
   "cell_type": "code",
   "execution_count": 14,
   "id": "48427156-0e86-4f69-b534-2eafeb8dff71",
   "metadata": {},
   "outputs": [
    {
     "name": "stdin",
     "output_type": "stream",
     "text": [
      "First Name:   Waqar\n",
      "Last Name :   Ali\n",
      "Age       :   26\n"
     ]
    },
    {
     "name": "stdout",
     "output_type": "stream",
     "text": [
      "('Waqar', 'Ali', 26)\n"
     ]
    }
   ],
   "source": [
    "f_name=input(\"First Name:  \")\n",
    "l_name=input(\"Last Name :  \")\n",
    "age=int(input(\"Age       :  \"))\n",
    "intro=(f_name,l_name,age)\n",
    "print(intro)"
   ]
  },
  {
   "cell_type": "markdown",
   "id": "6a08567b-6f6c-4374-a54e-992c09a31780",
   "metadata": {},
   "source": [
    "Q8. Given the tuple coordinates = (4, 5, 6), unpack the elements of the tuple into three variables x, y, and z. Then, calculate and print the sum of the variables."
   ]
  },
  {
   "cell_type": "code",
   "execution_count": 16,
   "id": "a7ab1c49-2ee5-4f8b-a9bc-bc73955c1ef0",
   "metadata": {},
   "outputs": [
    {
     "name": "stdout",
     "output_type": "stream",
     "text": [
      "15\n"
     ]
    }
   ],
   "source": [
    "my_tuple=(4,5,6)\n",
    "(x,y,z)=my_tuple\n",
    "sum=x+y+z\n",
    "print(sum)"
   ]
  },
  {
   "cell_type": "markdown",
   "id": "d3973711-1c49-436f-aaff-e0a19877f525",
   "metadata": {},
   "source": [
    "Q9. Given the tuple my_tuple = (1, 2, 3, 4, 5), remove the element 3 from the tuple by first converting it to a list, and then print the resulting tuple."
   ]
  },
  {
   "cell_type": "code",
   "execution_count": 19,
   "id": "f8b66f85-596f-493a-b1cf-9ae1d9816fff",
   "metadata": {},
   "outputs": [
    {
     "name": "stdout",
     "output_type": "stream",
     "text": [
      "(1, 2, 4, 5)\n"
     ]
    }
   ],
   "source": [
    "my_tuple = (1, 2, 3, 4, 5)\n",
    "my_tuple=list(my_tuple)\n",
    "my_tuple.remove(3)\n",
    "my_tuple=tuple(my_tuple)\n",
    "print(my_tuple)"
   ]
  },
  {
   "cell_type": "markdown",
   "id": "c9c6a478-5d3d-4e1e-8bce-b9479925c7c5",
   "metadata": {},
   "source": [
    "Q10. Given the tuple numbers = (10, 20, 5, 30, 15), find and print the maximum and minimum values in the tuple."
   ]
  },
  {
   "cell_type": "code",
   "execution_count": 27,
   "id": "9a852fa2-904d-4390-a3e4-8cea165be5c6",
   "metadata": {},
   "outputs": [
    {
     "name": "stdout",
     "output_type": "stream",
     "text": [
      "The Smallest Value is :  5\n",
      "The Largest Value is :  30\n"
     ]
    }
   ],
   "source": [
    "num=(10,20,5,30,15)\n",
    "min=1000\n",
    "max=0\n",
    "for check in num:\n",
    "    if min>check:\n",
    "        min=check\n",
    "    if max<check:\n",
    "        max=check\n",
    "\n",
    "print(\"The Smallest Value is : \", min)\n",
    "print(\"The Largest Value is : \", max)\n",
    "\n",
    "\n",
    "\n",
    "    "
   ]
  }
 ],
 "metadata": {
  "kernelspec": {
   "display_name": "Python 3 (ipykernel)",
   "language": "python",
   "name": "python3"
  },
  "language_info": {
   "codemirror_mode": {
    "name": "ipython",
    "version": 3
   },
   "file_extension": ".py",
   "mimetype": "text/x-python",
   "name": "python",
   "nbconvert_exporter": "python",
   "pygments_lexer": "ipython3",
   "version": "3.12.7"
  }
 },
 "nbformat": 4,
 "nbformat_minor": 5
}
