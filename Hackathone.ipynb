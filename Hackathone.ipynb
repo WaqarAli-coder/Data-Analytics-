{
 "cells": [
  {
   "cell_type": "code",
   "execution_count": 73,
   "id": "89b4d888-fa66-4a2c-8287-ee88701658d9",
   "metadata": {},
   "outputs": [],
   "source": [
    "# Storing Question in a nested list\n",
    "\n",
    "question=[\n",
    "            ['Who is the founder of Pakistan?',\n",
    "             'a. Allama Iqbal',\n",
    "             'b.Quaid-e-Azam',\n",
    "             'c.Mohtarma Fatima Jinah',\n",
    "             'd.Sir Syed Ahmed Khan'\n",
    "          \n",
    "            ],\n",
    "            ['Who is the Natinal Poet of Pakistan?',\n",
    "             'a. Allama Iqbal',\n",
    "             'b.Quaid-e-Azam',\n",
    "             'c.Mohtarma Fatima Jinah',\n",
    "             'd.Sir Syed Ahmed Khan'\n",
    "          \n",
    "            ],\n",
    "            \n",
    "            ['Who is the mother on nation (Mather-e-Millat) of Pakistan?',\n",
    "             'a. Allama Iqbal',\n",
    "             'b.Quaid-e-Azam',\n",
    "             'c.Mohtarma Fatima Jinah',\n",
    "             'd.Sir Syed Ahmed Khan'\n",
    "          \n",
    "            ],\n",
    "\n",
    "            ['Who is the writer of  national anthem of  Pakistan?',\n",
    "             'a. Allama Iqbal',\n",
    "             'b.Quaid-e-Azam',\n",
    "             'c.Mohtarma Fatima Jinah',\n",
    "             'd.Hafeez Jhalandhri'\n",
    "          \n",
    "            ],\n",
    "\n",
    "            ['Who is the first Governer & General of Pakistan?',\n",
    "             'a. Allama Iqbal',\n",
    "             'b.Quaid-e-Azam',\n",
    "             'c.Mohtarma Fatima Jinah',\n",
    "             'd.Sir Syed Ahmed Khan'\n",
    "          \n",
    "            ]\n",
    "    \n",
    "    \n",
    "         ]\n",
    "\n",
    "correct=['b','a','c','d','a']\n"
   ]
  },
  {
   "cell_type": "code",
   "execution_count": 57,
   "id": "1d8f1444-16b4-42cc-b62e-2fde2dff81f0",
   "metadata": {},
   "outputs": [
    {
     "name": "stdout",
     "output_type": "stream",
     "text": [
      "['Who is the founder of Pakistan?', 'a. Allama Iqbal', 'b.Quaid-e-Azam', 'c.Mohtarma Fatima Jinah', 'd.Sir Syed Ahmed Khan']\n"
     ]
    },
    {
     "name": "stdin",
     "output_type": "stream",
     "text": [
      "Type correct option from (a-d): a\n"
     ]
    },
    {
     "name": "stdout",
     "output_type": "stream",
     "text": [
      "['Who is the Natinal Poet of Pakistan?', 'a. Allama Iqbal', 'b.Quaid-e-Azam', 'c.Mohtarma Fatima Jinah', 'd.Sir Syed Ahmed Khan']\n"
     ]
    },
    {
     "name": "stdin",
     "output_type": "stream",
     "text": [
      "Type correct option from (a-d): a\n"
     ]
    },
    {
     "name": "stdout",
     "output_type": "stream",
     "text": [
      "['Who is the mother on natino(Mather-e-Millat) of Pakistan?', 'a. Allama Iqbal', 'b.Quaid-e-Azam', 'c.Mohtarma Fatima Jinah', 'd.Sir Syed Ahmed Khan']\n"
     ]
    },
    {
     "name": "stdin",
     "output_type": "stream",
     "text": [
      "Type correct option from (a-d): a\n"
     ]
    },
    {
     "name": "stdout",
     "output_type": "stream",
     "text": [
      "['Who is the writer of  national anthem of  Pakistan?', 'a. Allama Iqbal', 'b.Quaid-e-Azam', 'c.Mohtarma Fatima Jinah', 'd.Hafeez Jhalandhri']\n"
     ]
    },
    {
     "name": "stdin",
     "output_type": "stream",
     "text": [
      "Type correct option from (a-d): a\n"
     ]
    },
    {
     "name": "stdout",
     "output_type": "stream",
     "text": [
      "['Who is the first Governer & General of Pakistan?', 'a. Allama Iqbal', 'b.Quaid-e-Azam', 'c.Mohtarma Fatima Jinah', 'd.Sir Syed Ahmed Khan']\n"
     ]
    },
    {
     "name": "stdin",
     "output_type": "stream",
     "text": [
      "Type correct option from (a-d): a\n"
     ]
    },
    {
     "name": "stdout",
     "output_type": "stream",
     "text": [
      "['a', 'a', 'a', 'a', 'a']\n"
     ]
    }
   ],
   "source": [
    "\n",
    "\n",
    "# displaying question to the user\n",
    "answers=[]\n",
    "for q in question:\n",
    "    print(q)\n",
    "    ans=input(\"Type correct option from (a-d):\")\n",
    "    answers.append(ans)\n",
    "\n",
    "\n",
    "\n",
    "    "
   ]
  },
  {
   "cell_type": "code",
   "execution_count": null,
   "id": "4fe55749-bf63-46ce-b0bb-477b474fa70a",
   "metadata": {},
   "outputs": [],
   "source": []
  },
  {
   "cell_type": "code",
   "execution_count": 98,
   "id": "814e315d-c4b2-48b9-b682-bbfd32d1bdd5",
   "metadata": {},
   "outputs": [
    {
     "name": "stdout",
     "output_type": "stream",
     "text": [
      "Satisfactory job and you have got 2 score\n"
     ]
    }
   ],
   "source": [
    "#Applying condition to know the score\n",
    "score=0\n",
    "for z in range(len(answers)):\n",
    "    if answers[z]==correct[z]:\n",
    "        score+=1\n",
    "# Giving Remarks\n",
    "match score:\n",
    "    case 5:\n",
    "        print(\"Excelent job and you have got\",score,\"score\")\n",
    "\n",
    "    case 4:\n",
    "        print(\"Very Good job and you have got\",score,\"score\")\n",
    "\n",
    "    case 3:\n",
    "        print(\"Good job and you have got\",score,\"score\")\n",
    "\n",
    "    case 2:\n",
    "        print(\"Satisfactory job and you have got\",score,\"score\")\n",
    "\n",
    "    case 1:\n",
    "        print(\"Not Satisfactoryjob and you have got\",score,\"score\")\n",
    "        \n",
    "        \n",
    "    "
   ]
  },
  {
   "cell_type": "code",
   "execution_count": null,
   "id": "8cbd77b6-dd25-4c17-b659-2e20da26748e",
   "metadata": {},
   "outputs": [],
   "source": []
  }
 ],
 "metadata": {
  "kernelspec": {
   "display_name": "Python 3 (ipykernel)",
   "language": "python",
   "name": "python3"
  },
  "language_info": {
   "codemirror_mode": {
    "name": "ipython",
    "version": 3
   },
   "file_extension": ".py",
   "mimetype": "text/x-python",
   "name": "python",
   "nbconvert_exporter": "python",
   "pygments_lexer": "ipython3",
   "version": "3.12.7"
  }
 },
 "nbformat": 4,
 "nbformat_minor": 5
}
