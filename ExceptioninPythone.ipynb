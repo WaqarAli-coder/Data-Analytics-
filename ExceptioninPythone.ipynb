{
 "cells": [
  {
   "cell_type": "code",
   "execution_count": 28,
   "id": "566d6c70-71b3-48af-9d5d-bb1548f4ff38",
   "metadata": {},
   "outputs": [
    {
     "name": "stdout",
     "output_type": "stream",
     "text": [
      "\n"
     ]
    }
   ],
   "source": [
    "x\n",
    "print(x)\n"
   ]
  },
  {
   "cell_type": "code",
   "execution_count": 35,
   "id": "b07a3643-9307-46a5-848f-4a425747313e",
   "metadata": {},
   "outputs": [
    {
     "name": "stdout",
     "output_type": "stream",
     "text": [
      "https://us06web.zoom.us/rec/play/RBW9AEHYxO-9QG3AtEsCykgav32vi2qdefrHaOwH4AI9j0lDpFF4DIzuoIBgMwN-v87OE1V5yYI4h4NX.mtI3k2WopomfobkZ\n",
      "Lecture No 05\n",
      "\n",
      "\n",
      "AssignmentNo4SetDictionaryLoops.ipynb\n",
      "\n",
      "https://github.com/WaqarAli-coder/Data-Analytics-/blob/master/AssignmentNo4SetDictionaryLoops.ipynb\n"
     ]
    }
   ],
   "source": [
    "\n",
    "try:\n",
    "    print(open('zoom.txt','rt').read())\n",
    "\n",
    "except:\n",
    "    print(\"file is not readable\")"
   ]
  },
  {
   "cell_type": "code",
   "execution_count": 49,
   "id": "926084d1-a001-41ed-98a7-f489dac779df",
   "metadata": {},
   "outputs": [
    {
     "name": "stdout",
     "output_type": "stream",
     "text": [
      "error\n"
     ]
    }
   ],
   "source": [
    "import os\n",
    "try:\n",
    "    os.remove('myFile2.csv')\n",
    "\n",
    "except:\n",
    "    print(\"error\")\n",
    "\n",
    "else:\n",
    "    print(\"file has been delted\")"
   ]
  },
  {
   "cell_type": "code",
   "execution_count": null,
   "id": "09be4dc7-e996-4cd3-8d32-c8fa560cb615",
   "metadata": {},
   "outputs": [],
   "source": []
  },
  {
   "cell_type": "code",
   "execution_count": 22,
   "id": "4d4f7930-ec6e-479a-a833-703578d67eba",
   "metadata": {},
   "outputs": [
    {
     "name": "stdout",
     "output_type": "stream",
     "text": [
      "There is an error\n",
      "hi\n"
     ]
    }
   ],
   "source": [
    "try:\n",
    "    \n",
    "    print(z)\n",
    "\n",
    "except NameError:\n",
    "    print(\"There is an error\")\n",
    "\n",
    "else:\n",
    "    print(\"There is an error of naming variable\")\n",
    "\n",
    "finally:\n",
    "    print(\"hi\")"
   ]
  },
  {
   "cell_type": "code",
   "execution_count": null,
   "id": "43c2f3b6-f322-48b0-bddb-916dc6aa42ea",
   "metadata": {},
   "outputs": [],
   "source": []
  }
 ],
 "metadata": {
  "kernelspec": {
   "display_name": "Python 3 (ipykernel)",
   "language": "python",
   "name": "python3"
  },
  "language_info": {
   "codemirror_mode": {
    "name": "ipython",
    "version": 3
   },
   "file_extension": ".py",
   "mimetype": "text/x-python",
   "name": "python",
   "nbconvert_exporter": "python",
   "pygments_lexer": "ipython3",
   "version": "3.12.7"
  }
 },
 "nbformat": 4,
 "nbformat_minor": 5
}
