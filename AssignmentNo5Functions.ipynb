{
 "cells": [
  {
   "cell_type": "markdown",
   "id": "a758a746-ab4b-48b6-98dc-45093b46607d",
   "metadata": {},
   "source": [
    "1. Write a Python function called add_numbers that takes two numbers as arguments and returns their sum. Then, test the function by calling it with two numbers of your choice."
   ]
  },
  {
   "cell_type": "code",
   "execution_count": 7,
   "id": "b85f3be8-71b7-46d9-8198-cc66414e86d9",
   "metadata": {},
   "outputs": [
    {
     "name": "stdout",
     "output_type": "stream",
     "text": [
      "15\n"
     ]
    }
   ],
   "source": [
    "def add_numbers(n1,n2):\n",
    "    return n1+n2\n",
    "\n",
    "print(add_numbers(5,10))"
   ]
  },
  {
   "cell_type": "markdown",
   "id": "73ff5400-836c-44ee-aeeb-0b84be9db4d8",
   "metadata": {},
   "source": [
    "2. Create a Python function called currency_converter() that takes two arguments:\n",
    "\n",
    "- amount: The amount of money to be converted (in USD).\n",
    "- exchange_rate (default is 280): The conversion rate from USD to another currency (e.g., PKR). You can assume the default rate is 1 USD = 280 PKR.\n",
    "\n",
    "The function should return a message showing how much the given amount is worth in the target currency (PKR)."
   ]
  },
  {
   "cell_type": "code",
   "execution_count": 9,
   "id": "a11b8b49-f830-437d-af17-d245fa9f5248",
   "metadata": {},
   "outputs": [
    {
     "name": "stdin",
     "output_type": "stream",
     "text": [
      "How many dollors you want to conver into pkr 2\n",
      "How much value of a dollor into PKR today 280\n"
     ]
    },
    {
     "name": "stdout",
     "output_type": "stream",
     "text": [
      "The Converted value of Dollor into PKR is :    560.0\n"
     ]
    }
   ],
   "source": [
    "def currency_converter(dollor,value=280):\n",
    "    print(\"The Converted value of Dollor into PKR is :   \", dollor*value)\n",
    "#function ends\n",
    "\n",
    "dollor = float(input(\"How many dollors you want to conver into pkr\"))\n",
    "value = float(input(\"How much value of a dollor into PKR today\"))\n",
    "\n",
    "currency_converter(dollor,value)\n",
    "    "
   ]
  },
  {
   "cell_type": "markdown",
   "id": "0f49a1a2-234e-434f-bbc1-bb5ed293e2c4",
   "metadata": {},
   "source": [
    "3. Write a Python function display_student_info that accepts the following details about a student:\n",
    "\n",
    "- name (Keyword argument): The name of the student.\n",
    "- age (Keyword argument): The age of the student.\n",
    "- grade (Keyword argument): The grade the student is in.\n",
    "- school (Keyword argument): The name of the school the student attends."
   ]
  },
  {
   "cell_type": "code",
   "execution_count": 15,
   "id": "c6431b1d-cf47-40d1-a170-8f71a40b7f21",
   "metadata": {},
   "outputs": [
    {
     "name": "stdout",
     "output_type": "stream",
     "text": [
      "Student's name is :  waqar\n",
      "Student'is  20  years old\n",
      "Student studies in  Grade  10\n",
      "Student enrolled at  GDC Sukkur\n"
     ]
    }
   ],
   "source": [
    "def display_student_info(name,age,grade,school):\n",
    "    print(\"Student's name is : \",name)\n",
    "    print(\"Student'is \",age,\" years old\")\n",
    "    print(\"Student studies in  Grade \",grade)\n",
    "    print(\"Student enrolled at  \"+ school)\n",
    "\n",
    "display_student_info(\"waqar\",20,10,\"GDC Sukkur\")\n",
    "    "
   ]
  },
  {
   "cell_type": "markdown",
   "id": "6bd6698d-f556-439a-981f-dfa0ef46ed9a",
   "metadata": {},
   "source": [
    "4. Write a Python function calculate_price that accepts two positional arguments:\n",
    "\n",
    "- price: The price of a single item.\n",
    "- quantity: The number of items bought.\n",
    "- The function should return the total price by multiplying price and quantity."
   ]
  },
  {
   "cell_type": "code",
   "execution_count": 18,
   "id": "e2678e28-8cc2-48ca-ba76-55d882b4b9bb",
   "metadata": {},
   "outputs": [
    {
     "name": "stdout",
     "output_type": "stream",
     "text": [
      "50\n"
     ]
    }
   ],
   "source": [
    "def calculate_price(price,qnty,/):\n",
    "    return price*qnty\n",
    "\n",
    "print(calculate_price(5,10))\n"
   ]
  },
  {
   "cell_type": "markdown",
   "id": "e589be97-b036-4b13-86b9-9d3312761a0c",
   "metadata": {},
   "source": [
    "5. Write a Python function display_prices that takes a product name and an arbitrary number of keyword arguments representing product prices. The function should display each product and its price.\n",
    "\n",
    "Laptop:$900\n",
    "\n",
    "Amazon: $800\n",
    "\n",
    "eBay: $750\n",
    "\n",
    "Walmart: $780"
   ]
  },
  {
   "cell_type": "code",
   "execution_count": 28,
   "id": "3c2b0b1a-fe27-4616-ace4-df15c430cba7",
   "metadata": {},
   "outputs": [
    {
     "name": "stdout",
     "output_type": "stream",
     "text": [
      "{'laptop': '$900'}\n",
      "{'Amazon': '$800'}\n",
      "{'eBay': '$750'}\n",
      "{'Walmart': '$780'}\n"
     ]
    }
   ],
   "source": [
    "def display_prices(**p_name):\n",
    "    print(p_name['p1'])\n",
    "    print(p_name['p2'])\n",
    "    print(p_name['p3'])\n",
    "    print(p_name['p4'])\n",
    "\n",
    "\n",
    "display_prices(p1={'laptop':'$900'},p2={'Amazon':'$800'}, p3={'eBay':'$750'},p4={'Walmart':'$780'})"
   ]
  },
  {
   "cell_type": "markdown",
   "id": "5a5910f5-e54e-4515-8c98-c3898f96c1ca",
   "metadata": {},
   "source": [
    "6. Write a Python function find_max that takes any number of numerical arguments and returns the maximum number."
   ]
  },
  {
   "cell_type": "code",
   "execution_count": 41,
   "id": "a76ac879-690f-4a50-8f80-e27583675b49",
   "metadata": {},
   "outputs": [
    {
     "name": "stdout",
     "output_type": "stream",
     "text": [
      "9\n"
     ]
    }
   ],
   "source": [
    "def find_max(*num):\n",
    "    max=0\n",
    "    for x in num:\n",
    "        if x>max:\n",
    "            max=x\n",
    "    print(max)\n",
    "\n",
    "find_max(2,3,5,7,8,9)\n",
    "\n",
    "\n",
    "\n",
    "\n",
    "\n"
   ]
  },
  {
   "cell_type": "markdown",
   "id": "44669d12-8201-466b-a8e8-f7538f3eb72f",
   "metadata": {},
   "source": [
    "7. Write a Python function display_info that takes:\n",
    "Positional arguments for the name and age of a person.\n",
    "Keyword arguments for other personal details like address, phone number, and email.\n",
    "Example Output:\n",
    "\n",
    "- Name: Alice\n",
    "- Age: 30\n",
    "- Other Details:\n",
    "    - address: 123 Main St\n",
    "    - phone: 123-456-7890\n",
    "    - email: alice@example.com"
   ]
  },
  {
   "cell_type": "code",
   "execution_count": 47,
   "id": "4790a77d-adfd-4d5a-9051-e8b0f87de795",
   "metadata": {},
   "outputs": [
    {
     "name": "stdout",
     "output_type": "stream",
     "text": [
      "Name: Alilce\n",
      "Age:  30\n",
      "Other Details\n",
      "Address: 123 Main St\n",
      "Phone:  123-456-7890\n",
      "Email: alice@example.com\n"
     ]
    }
   ],
   "source": [
    "def display_info(name,age,/,*,address,phone,email):\n",
    "    print(\"Name: \"+name)\n",
    "    print(\"Age: \",age)\n",
    "    print(\"Other Details\")\n",
    "    print(\"Address: \"+ address)\n",
    "    print(\"Phone: \",phone)\n",
    "    print(\"Email: \"+ email)\n",
    "\n",
    "display_info('Alilce',30,address='123 Main St', phone='123-456-7890', email='alice@example.com')\n",
    "\n",
    "\n",
    "\n",
    "\n",
    "\n",
    "    "
   ]
  },
  {
   "cell_type": "markdown",
   "id": "bdbfd749-11e9-46f5-ab44-624a2799b5ab",
   "metadata": {},
   "source": [
    "8. products = [ {\"name\": \"Laptop\", \"price\": 1200, \"in_stock\": True, \"discount\": 0.1}, {\"name\": \"Smartphone\", \"price\": 800, \"in_stock\": False, \"discount\": 0.05}, {\"name\": \"Headphones\", \"price\": 150, \"in_stock\": True, \"discount\": 0.2}, {\"name\": \"Smartwatch\", \"price\": 300, \"in_stock\": True, \"discount\": 0}, {\"name\": \"Keyboard\", \"price\": 100, \"in_stock\": True, \"discount\": 0.15} ]\n",
    "\n",
    "- Get names of in-stock products:\n",
    "\n",
    "*Use list comprehension to generate a list of names for the products that are in stock.\n",
    "\n",
    "- Calculate final prices for in-stock products after discount:\n",
    "\n",
    "*For products that have a discount, calculate the final price by applying the discount.\n",
    "\n",
    "*For products with no discount, keep the original price.\n",
    "\n",
    "- Generate a list of tuples with the product name and its final price.\n",
    "\n",
    "Example Output:\n",
    "\n",
    "- In-stock product names: ['Laptop', 'Headphones', 'Smartwatch', 'Keyboard']\n",
    "- Discounted prices: [('Laptop', 1080.0), ('Headphones', 120.0), ('Smartwatch', 300), ('Keyboard', 85.0)]"
   ]
  },
  {
   "cell_type": "code",
   "execution_count": 37,
   "id": "6ed7dd76-f7b7-4cdd-9bb0-016067184c87",
   "metadata": {},
   "outputs": [
    {
     "name": "stdout",
     "output_type": "stream",
     "text": [
      "In a stock products names are : ['Laptop', 'Smartphone', 'Headphones', 'Smartwatch', 'Keyboard']\n",
      "[('Laptop', 1080.0), ('Smartphone', 760.0), ('Headphones', 120.0), ('Smartwatch', 300), ('Keyboard', 85.0)]\n"
     ]
    }
   ],
   "source": [
    "products = [ {\"name\": \"Laptop\", \"price\": 1200, \"in_stock\": True, \"discount\": 0.1}, \n",
    "            {\"name\": \"Smartphone\", \"price\": 800, \"in_stock\": False, \"discount\": 0.05}, \n",
    "            {\"name\": \"Headphones\", \"price\": 150, \"in_stock\": True, \"discount\": 0.2}, \n",
    "            {\"name\": \"Smartwatch\", \"price\": 300, \"in_stock\": True, \"discount\": 0}, \n",
    "            {\"name\": \"Keyboard\", \"price\": 100, \"in_stock\": True, \"discount\": 0.15} ]\n",
    "#names of products\n",
    "name=[x['name'] for x in products]\n",
    "print(\"In a stock products names are :\", name)\n",
    "\n",
    "# to know discounted price of products which have discount\n",
    "discounted_price=[y['price']-(y['discount']*y['price']) for y in products]\n",
    "\n",
    "final_price=[]\n",
    "for x in range(len(name)):\n",
    "    final_price.append((name[x],discounted_price[x]))\n",
    "    \n",
    "\n",
    "print(final_price)\n",
    "\n",
    "\n",
    "\n",
    "\n"
   ]
  },
  {
   "cell_type": "markdown",
   "id": "82c385f9-3462-4bd5-9932-6494ba7f4ea4",
   "metadata": {},
   "source": [
    "9.Create a list of even numbers between 1 and 20. (List Comprehension)"
   ]
  },
  {
   "cell_type": "code",
   "execution_count": 71,
   "id": "b7915dc9-65a3-4f90-95c7-e95aabccfaa1",
   "metadata": {},
   "outputs": [
    {
     "data": {
      "text/plain": [
       "[2, 4, 6, 8, 10, 12, 14, 16, 18, 20]"
      ]
     },
     "execution_count": 71,
     "metadata": {},
     "output_type": "execute_result"
    }
   ],
   "source": [
    "even= [x for x in range(1,21) if x%2==0]\n",
    "print(even)"
   ]
  },
  {
   "cell_type": "markdown",
   "id": "aade3ca0-7357-42c0-96c5-05152574ae76",
   "metadata": {},
   "source": [
    "10. Create a list of numbers, generate a new list containing only the numbers that are divisible by 3 or 5. (List Comprehension)"
   ]
  },
  {
   "cell_type": "code",
   "execution_count": 73,
   "id": "6e707eba-06aa-4459-926c-83f42732fbe4",
   "metadata": {},
   "outputs": [
    {
     "name": "stdout",
     "output_type": "stream",
     "text": [
      "[3, 5, 6, 9, 0]\n"
     ]
    }
   ],
   "source": [
    "num=[1,2,3,4,5,6,7,8,9,0]\n",
    "new_num=[x for x in num if x%3==0 or x%5==0]\n",
    "print(new_num)"
   ]
  },
  {
   "cell_type": "code",
   "execution_count": null,
   "id": "1acbb687-381f-447a-9fc2-dfe202d15382",
   "metadata": {},
   "outputs": [],
   "source": []
  }
 ],
 "metadata": {
  "kernelspec": {
   "display_name": "Python 3 (ipykernel)",
   "language": "python",
   "name": "python3"
  },
  "language_info": {
   "codemirror_mode": {
    "name": "ipython",
    "version": 3
   },
   "file_extension": ".py",
   "mimetype": "text/x-python",
   "name": "python",
   "nbconvert_exporter": "python",
   "pygments_lexer": "ipython3",
   "version": "3.12.7"
  }
 },
 "nbformat": 4,
 "nbformat_minor": 5
}
