{
 "cells": [
  {
   "cell_type": "code",
   "execution_count": 24,
   "id": "abd9b68e-cc86-4353-a0af-f5761a773354",
   "metadata": {},
   "outputs": [
    {
     "name": "stdout",
     "output_type": "stream",
     "text": [
      "Artificial Intelligence and Data Science\n"
     ]
    }
   ],
   "source": [
    "# Create string (String is a group of letter that acts like list in python)\n",
    "course=\"Artificial Intelligence and Data Science\"\n",
    "print(course)"
   ]
  },
  {
   "cell_type": "code",
   "execution_count": 7,
   "id": "dd23d8ee-7506-4888-a526-434cd4e74085",
   "metadata": {},
   "outputs": [
    {
     "name": "stdout",
     "output_type": "stream",
     "text": [
      "41\n"
     ]
    }
   ],
   "source": [
    "# to know length of String/List\n",
    "print(len(course))\n",
    "# to extract Intellignece from Artificial Intelligence and Data Scienece\n"
   ]
  },
  {
   "cell_type": "code",
   "execution_count": 14,
   "id": "d6d77ad1-cfb3-4751-838d-0ba18632e04d",
   "metadata": {},
   "outputs": [
    {
     "name": "stdout",
     "output_type": "stream",
     "text": [
      "10\n",
      "12\n",
      " Intelligence\n"
     ]
    }
   ],
   "source": [
    "# To extract Intellegence word from Artificial Intelligence and Data Scienece\n",
    "print(len(\"Artificial\"))\n",
    "print(len(\"Intelligence\"))\n",
    "print(course[10:23]) # Extracting intellignece via indexing\n"
   ]
  },
  {
   "cell_type": "code",
   "execution_count": 25,
   "id": "399f63bf-ff17-45c6-a925-22f2935c6eaa",
   "metadata": {},
   "outputs": [
    {
     "name": "stdout",
     "output_type": "stream",
     "text": [
      "Artificial Intelligence and Data Analytics\n"
     ]
    }
   ],
   "source": [
    "# TO replace sceince into analytics \n",
    "print(course.replace(\"Science\",\"Analytics\"))\n"
   ]
  },
  {
   "cell_type": "code",
   "execution_count": 31,
   "id": "053e433c-ff18-449e-9ae7-aa84b634f6cb",
   "metadata": {},
   "outputs": [
    {
     "name": "stdout",
     "output_type": "stream",
     "text": [
      "Intelligence and Data Science\n",
      "Artificial\n"
     ]
    }
   ],
   "source": [
    "# Slicing in python\n",
    "print(course[11:])\n",
    "print(course[:10])"
   ]
  },
  {
   "cell_type": "code",
   "execution_count": 38,
   "id": "2f3bc635-3418-4be6-b78d-f661736d1bf4",
   "metadata": {},
   "outputs": [
    {
     "name": "stdout",
     "output_type": "stream",
     "text": [
      "ARTIFICIAL INTELLIGENCE AND DATA SCIENCE\n",
      "artificial intelligence and data science\n",
      "['Artificial', 'Intelligence', 'and', 'Data', 'Science']\n",
      "['Syed', 'Waqar', 'Ali']\n",
      "      Syed        \n",
      "Syed\n"
     ]
    }
   ],
   "source": [
    "# To convert text into capital alphabets\n",
    "print(course.upper())\n",
    "# To convert text into small alphabets\n",
    "print(course.lower())\n",
    "# To convert string into list by using split() followed by space \n",
    "print(course.split())\n",
    "# To convert string into list by using split() followed by _ \"underscore\"\n",
    "name=\"Syed_Waqar_Ali\"\n",
    "print(name.split(\"_\"))\n",
    "# To remove starting and ending space\n",
    "firstName=\"      Syed        \"\n",
    "print(firstName) # Showing spaces\n",
    "print(firstName.strip()) # Remoes spaces\n",
    " \n",
    "\n",
    "\n"
   ]
  },
  {
   "cell_type": "code",
   "execution_count": 44,
   "id": "ff5a9dc7-7676-432b-b35d-9ed2d1c2b3c6",
   "metadata": {},
   "outputs": [
    {
     "name": "stdout",
     "output_type": "stream",
     "text": [
      "aRTIFICIAL iNTELLIGENCE AND dATA sCIENCE\n",
      "5\n",
      "11\n",
      "True\n",
      "False\n"
     ]
    }
   ],
   "source": [
    "# to convert string case small into capital and vice versa\n",
    "print(course.swapcase())\n",
    "# To count the occurance of any letter in  string \n",
    "print(course.count('i'))\n",
    "# To check index of any letter\n",
    "print(course.index('I'))\n",
    "# To check weather a string starts with the followign letter or not\n",
    "print(course.startswith(\"Art\"))\n",
    "# To check weather a string ends with the followign letter or not\n",
    "print(course.endswith(\"Art\"))\n",
    "\n",
    "\n"
   ]
  },
  {
   "cell_type": "code",
   "execution_count": 45,
   "id": "9344cb0d-b60f-421f-a5c5-7b813f501f58",
   "metadata": {},
   "outputs": [
    {
     "name": "stdout",
     "output_type": "stream",
     "text": [
      "my lucky no is 10\n"
     ]
    }
   ],
   "source": [
    "# values of Variables can be displayed in string by using \"f String method\"\n",
    "num=10\n",
    "print(f\"my lucky no is {num}\")"
   ]
  }
 ],
 "metadata": {
  "kernelspec": {
   "display_name": "Python 3 (ipykernel)",
   "language": "python",
   "name": "python3"
  },
  "language_info": {
   "codemirror_mode": {
    "name": "ipython",
    "version": 3
   },
   "file_extension": ".py",
   "mimetype": "text/x-python",
   "name": "python",
   "nbconvert_exporter": "python",
   "pygments_lexer": "ipython3",
   "version": "3.12.7"
  }
 },
 "nbformat": 4,
 "nbformat_minor": 5
}
